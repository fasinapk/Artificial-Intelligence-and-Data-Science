{
 "cells": [
  {
   "cell_type": "code",
   "execution_count": 2,
   "metadata": {},
   "outputs": [
    {
     "name": "stdout",
     "output_type": "stream",
     "text": [
      "['Welcome\\n', 'this is line 1\\n', 'this is line 2\\n', 'this is line 3\\n', 'this is line 4\\n', 'this is line 5']\n"
     ]
    }
   ],
   "source": [
    "# Q1. create a txt file, enter multiple lines of text. read this file line by line and store\n",
    "#     it into a list. Apply exception handling technique\n",
    "\n",
    "\n",
    "try:\n",
    "    mytxt=open(\"txtfile.txt\",'w+')\n",
    "    mytxt.write(\"Welcome\\n\")\n",
    "    mytxt.write(\"This is line 1\\n\")\n",
    "    mytxt.write(\"This is line 2\\n\")\n",
    "    mytxt.write(\"This is line 3\\n\")\n",
    "    mytxt.write(\"This is line 4\\n\")\n",
    "    mytxt.write(\"This is line 5\")\n",
    "    lst=mytxt.readlines()\n",
    "    print(lst)\n",
    "    \n",
    "except:\n",
    "    print(\"Error in try block\")\n",
    "    \n",
    "else:\n",
    "    print(\"Successfully executed\")"
   ]
  },
  {
   "cell_type": "code",
   "execution_count": 2,
   "metadata": {},
   "outputs": [],
   "source": [
    "# Q2. Write a Python program to write below list content to a file. Apply exception handling technique\n",
    "#     color = ['Red', 'Green', 'White', 'Black', 'Pink', 'Yellow']\n",
    "\n",
    "\n",
    "\n",
    "try:\n",
    "    \n",
    "    color = ['Red', 'Green', 'White', 'Black', 'Pink', 'Yellow']\n",
    "    myf=open(\"listfile.txt\",'w+')\n",
    "    for clr in color:\n",
    "        myf.write(clr+\"\\n\")\n",
    "\n",
    "except:\n",
    "    print(\"Error in try block\")\n",
    "\n"
   ]
  },
  {
   "cell_type": "code",
   "execution_count": 3,
   "metadata": {},
   "outputs": [
    {
     "name": "stdout",
     "output_type": "stream",
     "text": [
      "['Welcome', 'This is line 1', 'This is line 2', 'This is line 3', 'This is line 4', 'This is line 5', 'Thank you']\n"
     ]
    }
   ],
   "source": [
    "# Q3. create a txt file, enter multiple lines of text. remove newline characters from\n",
    "#     created file and print as a list. Apply exception handling techniques wherever possible\n",
    "\n",
    "try:\n",
    "    \n",
    "    ftxt=open(\"txtfile1.txt\",'w+')\n",
    "    ftxt.write(\"Welcome\\n\")\n",
    "    ftxt.write(\"This is line 1\\n\")\n",
    "    ftxt.write(\"This is line 2\\n\")\n",
    "    ftxt.write(\"This is line 3\\n\")\n",
    "    ftxt.write(\"This is line 4\\n\")\n",
    "    ftxt.write(\"This is line 5\\n\")\n",
    "    ftxt.write(\"Thank you\\n\")\n",
    "    ftxt.seek(0)\n",
    "    lst=ftxt.readlines()\n",
    "    lst1=[]\n",
    "    for lt in lst:\n",
    "        lst1.append(lt.replace(\"\\n\",\"\"))\n",
    "    print(lst1)\n",
    "    \n",
    "except:\n",
    "    print(\"Error in try\")\n",
    "\n"
   ]
  },
  {
   "cell_type": "code",
   "execution_count": 2,
   "metadata": {},
   "outputs": [
    {
     "name": "stdout",
     "output_type": "stream",
     "text": [
      "Successfully copied the contents of testfile1.txt to testfile22.txt\n"
     ]
    }
   ],
   "source": [
    "# Q4. create a testfile1.txt file, enter multiple lines of text . Now copy contents of\n",
    "#     testfile1.txt to new file testfile22.txt. Apply exception handling techniques wherever possible\n",
    "\n",
    "\n",
    "\n",
    "\n",
    "try:\n",
    "    tst=open(\"testfile1.txt\",'w+')\n",
    "    tst.write(\"This is Line1\\n\")\n",
    "    tst.write(\"This is Line2\\n\")\n",
    "    tst.write(\"This is Line3\\n\")\n",
    "    tst.write(\"This is Line4\\n\")\n",
    "    tst.write(\"This is Line5\\n\")\n",
    "    tst.write(\"This is Line6\")\n",
    "    tst.seek(0)\n",
    "    myf=tst.read()\n",
    "    tst1=open(\"testfile22.txt\",'w+')\n",
    "    tst1.write(myf)\n",
    "    \n",
    "except:\n",
    "    print(\"Error in try\")\n",
    "    \n",
    "    \n",
    "else:\n",
    "    print(\"Successfully copied the contents of testfile1.txt to testfile22.txt\")\n",
    "\n"
   ]
  }
 ],
 "metadata": {
  "kernelspec": {
   "display_name": "Python 3",
   "language": "python",
   "name": "python3"
  },
  "language_info": {
   "codemirror_mode": {
    "name": "ipython",
    "version": 3
   },
   "file_extension": ".py",
   "mimetype": "text/x-python",
   "name": "python",
   "nbconvert_exporter": "python",
   "pygments_lexer": "ipython3",
   "version": "3.8.3"
  }
 },
 "nbformat": 4,
 "nbformat_minor": 4
}
