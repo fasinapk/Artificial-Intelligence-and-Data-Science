{
 "cells": [
  {
   "cell_type": "code",
   "execution_count": 110,
   "metadata": {},
   "outputs": [
    {
     "name": "stdout",
     "output_type": "stream",
     "text": [
      "Enter a string of odd length : abcdefghi\n",
      "3 middle characters from given string : def\n"
     ]
    }
   ],
   "source": [
    "# Q1. Input a string of odd length (minimum 9 characters), print a string made of the 3 middle characters from input string.\n",
    "#     (eg :- if input is abcdefghi, answer should be def)\n",
    "\n",
    "\n",
    "str=input(\"Enter a string of odd length : \")\n",
    "length=len(str)\n",
    "m=length//2\n",
    "print(\"3 middle characters from given string :\" ,str[m-1:m+2])"
   ]
  },
  {
   "cell_type": "code",
   "execution_count": 131,
   "metadata": {},
   "outputs": [
    {
     "name": "stdout",
     "output_type": "stream",
     "text": [
      "Enter a number : 5\n",
      "sum of first  5  natural numbers is : 15\n",
      "average of first  5  natural numbers is :  3.0\n"
     ]
    }
   ],
   "source": [
    "# Q2. Calculate the sum and average of first n natural numbers\n",
    "#     a. using for loop\n",
    "\n",
    "\n",
    "num=int(input(\"Enter a number : \"))\n",
    "sum=0\n",
    "n=num\n",
    "for i in range(num+1):\n",
    "    sum=sum+i\n",
    "print(\"sum of first \",n ,\" natural numbers is :\",sum)\n",
    "avg=sum/n\n",
    "print(\"average of first \",n ,\" natural numbers is : \",avg)\n"
   ]
  },
  {
   "cell_type": "code",
   "execution_count": 113,
   "metadata": {},
   "outputs": [
    {
     "name": "stdout",
     "output_type": "stream",
     "text": [
      "Enter a number : 5\n",
      "sum of first  5  natural numbers is : 15\n",
      "average of first  5  natural numbers is :  3.0\n"
     ]
    }
   ],
   "source": [
    "#     b. using while loop\n",
    "\n",
    "\n",
    "num=int(input(\"Enter a number : \"))\n",
    "sum=0\n",
    "n=num\n",
    "while num>0:\n",
    "    sum=sum+num\n",
    "    num=num-1\n",
    "print(\"sum of first \",n ,\" natural numbers is :\",sum)\n",
    "avg=sum/n\n",
    "print(\"average of first \",n ,\" natural numbers is : \",avg)\n",
    "\n"
   ]
  },
  {
   "cell_type": "code",
   "execution_count": 115,
   "metadata": {},
   "outputs": [
    {
     "name": "stdout",
     "output_type": "stream",
     "text": [
      "list 5 float numbers\n",
      "2.1\n",
      "1.2\n",
      "6.4\n",
      "5.3\n",
      "9.1\n",
      "list = [2.1, 1.2, 6.4, 5.3, 9.1]\n"
     ]
    }
   ],
   "source": [
    "# Q3. Accept list of 5 float numbers as input from user using loop and store values in a list\n",
    "\n",
    "\n",
    "print(\"list 5 float numbers\")\n",
    "lst=[]\n",
    "for i in range(5):\n",
    "    lst.append(float(input()))\n",
    "print(\"list =\" ,lst)\n",
    "    "
   ]
  },
  {
   "cell_type": "code",
   "execution_count": 116,
   "metadata": {},
   "outputs": [
    {
     "name": "stdout",
     "output_type": "stream",
     "text": [
      "1 \n",
      "1 2 \n",
      "1 2 3 \n",
      "1 2 3 4 \n",
      "1 2 3 4 5 \n"
     ]
    }
   ],
   "source": [
    "# Q4. Print the following pattern\n",
    "#         1                         \n",
    "#         1 2                       \n",
    "#   a.    1 2 3               \n",
    "#         1 2 3 4                   \n",
    "#         1 2 3 4 5                 \n",
    "\n",
    "\n",
    "\n",
    "for i in range(1,6):\n",
    "    for j in range(i):\n",
    "        print(j+1,end=\" \")\n",
    "    print()\n",
    "    "
   ]
  },
  {
   "cell_type": "code",
   "execution_count": 117,
   "metadata": {},
   "outputs": [
    {
     "name": "stdout",
     "output_type": "stream",
     "text": [
      "5 4 3 2 1 \n",
      "4 3 2 1 \n",
      "3 2 1 \n",
      "2 1 \n",
      "1 \n"
     ]
    }
   ],
   "source": [
    "#         5 4 3 2 1\n",
    "#         4 3 2 1\n",
    "#   b.    3 2 1\n",
    "#         2 1\n",
    "#         1\n",
    "\n",
    "\n",
    "\n",
    "for i in range(5,0,-1):\n",
    "    for j in range(i,0,-1):\n",
    "        print(j,end=\" \")\n",
    "    print()\n",
    "    "
   ]
  },
  {
   "cell_type": "code",
   "execution_count": 118,
   "metadata": {},
   "outputs": [
    {
     "name": "stdout",
     "output_type": "stream",
     "text": [
      "Enter any number : 987\n",
      "Number of digits in given number :  3\n"
     ]
    }
   ],
   "source": [
    "# Q5. input a number, count and print the total number of digits in that number using while loop\n",
    "\n",
    "\n",
    "\n",
    "n=int(input(\"Enter any number : \"))\n",
    "count=0\n",
    "while n>0:\n",
    "    n=n//10\n",
    "    count+=1\n",
    "print(\"Number of digits in given number : \", count)"
   ]
  },
  {
   "cell_type": "code",
   "execution_count": 132,
   "metadata": {},
   "outputs": [
    {
     "name": "stdout",
     "output_type": "stream",
     "text": [
      "listThree =  [6, 12, 18, 4, 12, 20, 28]\n"
     ]
    }
   ],
   "source": [
    "# Q6. Given two lists. Create a third list by picking an odd-index element from the first list and even index elements from second.\n",
    "#     listOne = [3, 6, 9, 12, 15, 18, 21]\n",
    "#     listTwo = [4, 8, 12, 16, 20, 24, 28]\n",
    "\n",
    "\n",
    "listOne = [3, 6, 9, 12, 15, 18, 21]\n",
    "listTwo = [4, 8, 12, 16, 20, 24, 28]\n",
    "listThree = listOne[1::2] + listTwo[::2]\n",
    "print(\"listThree = \",listThree)"
   ]
  },
  {
   "cell_type": "code",
   "execution_count": 127,
   "metadata": {},
   "outputs": [
    {
     "name": "stdout",
     "output_type": "stream",
     "text": [
      "Enter limit : 6\n",
      "list numbers \n",
      "22\n",
      "44\n",
      "10\n",
      "23\n",
      "7\n",
      "35\n",
      "lst =  [22, 44, 10, 23, 7, 35]\n",
      "smallest number :  7\n"
     ]
    }
   ],
   "source": [
    "# Q7. program to get the smallest number from a list.\n",
    "\n",
    "\n",
    "n=int(input(\"Enter limit : \"))\n",
    "print(\"list numbers \")\n",
    "lst=[]\n",
    "for i in range(n):\n",
    "    lst.append(int(input()))\n",
    "print(\"lst = \",lst)\n",
    "print(\"smallest number : \" ,min(lst))"
   ]
  },
  {
   "cell_type": "code",
   "execution_count": 128,
   "metadata": {},
   "outputs": [
    {
     "name": "stdout",
     "output_type": "stream",
     "text": [
      "reversed list =  [50, 4, 30, 20, 10]\n"
     ]
    }
   ],
   "source": [
    "# Q8. Reverse the following list using for loop and range [ do not use reverse or reversed like functions]\n",
    "#     list1 = [10, 20, 30, 4, 50]\n",
    "\n",
    "\n",
    "\n",
    "list1 = [10, 20, 30, 4, 50]\n",
    "k=len(list1) \n",
    "rlist=[]\n",
    "for i in range(k-1,-1,-1):\n",
    "    rlist.append(list1[i])\n",
    "print(\"reversed list = \",rlist)"
   ]
  }
 ],
 "metadata": {
  "kernelspec": {
   "display_name": "Python 3",
   "language": "python",
   "name": "python3"
  }
 },
 "nbformat": 4,
 "nbformat_minor": 4
}
