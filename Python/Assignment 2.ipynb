{
 "cells": [
  {
   "cell_type": "code",
   "execution_count": 89,
   "metadata": {},
   "outputs": [
    {
     "name": "stdout",
     "output_type": "stream",
     "text": [
      "tuple1 = (11, [222, 33], 44, 55)\n"
     ]
    }
   ],
   "source": [
    "# Q1. Modify the first item (22) of a list inside a following tuple to 222\n",
    "# tuple1 = (11, [22, 33], 44, 55)\n",
    "# Expected output: tuple1 = (11, [222, 33], 44, 55)\n",
    "\n",
    "\n",
    "tuple1 = (11, [22, 33], 44, 55)\n",
    "tuple1[1][0]=222\n",
    "print(\"tuple1 =\",tuple1)"
   ]
  },
  {
   "cell_type": "code",
   "execution_count": 90,
   "metadata": {},
   "outputs": [
    {
     "name": "stdout",
     "output_type": "stream",
     "text": [
      "Number of occurrences of item 50 is 2\n"
     ]
    }
   ],
   "source": [
    "# Q2. Count the number of occurrences of item 50 from a tuple\n",
    "# tuple1 = (50, 10, 60, 70, 50)\n",
    "\n",
    "\n",
    "tuple1 = (50, 10, 60, 70, 50)\n",
    "count=0\n",
    "for i in tuple1:\n",
    "    if i==50:\n",
    "        count=count+1\n",
    "print(\"Number of occurrences of item 50 is\",count)"
   ]
  },
  {
   "cell_type": "code",
   "execution_count": 91,
   "metadata": {},
   "outputs": [
    {
     "name": "stdout",
     "output_type": "stream",
     "text": [
      "Enter limit : 5\n",
      "list numbers \n",
      "56\n",
      "45\n",
      "12\n",
      "89\n",
      "32\n",
      "list = [56, 45, 12, 89, 32]\n",
      "tuple = (56, 45, 12, 89, 32)\n"
     ]
    }
   ],
   "source": [
    "# Q3. Write a Python program to convert a list to a tuple\n",
    "\n",
    "\n",
    "n=int(input(\"Enter limit : \"))\n",
    "print(\"list numbers \")\n",
    "lst=[]\n",
    "for i in range(n):\n",
    "    lst.append(int(input()))\n",
    "print(\"list =\",lst)\n",
    "tuple1=tuple(lst)\n",
    "print(\"tuple =\", tuple1)"
   ]
  },
  {
   "cell_type": "code",
   "execution_count": 92,
   "metadata": {},
   "outputs": [
    {
     "data": {
      "text/plain": [
       "{10, 20, 30, 40, 50, 60, 70}"
      ]
     },
     "execution_count": 92,
     "metadata": {},
     "output_type": "execute_result"
    }
   ],
   "source": [
    "# Q4. Returns a new set with all items from both sets by removing duplicates\n",
    "# set1 = {10, 20, 30, 40, 50}\n",
    "# set2 = {30, 40, 50, 60, 70}\n",
    "\n",
    "\n",
    "set1 = {10, 20, 30, 40, 50}\n",
    "set2 = {30, 40, 50, 60, 70}\n",
    "set3=set1.copy()\n",
    "set3.update(set2)\n",
    "set3"
   ]
  },
  {
   "cell_type": "code",
   "execution_count": 93,
   "metadata": {},
   "outputs": [
    {
     "data": {
      "text/plain": [
       "{'Ten': 10, 'Twenty': 20, 'Thirty': 30, 'Fourty': 40, 'Fifty': 50}"
      ]
     },
     "execution_count": 93,
     "metadata": {},
     "output_type": "execute_result"
    }
   ],
   "source": [
    "# Q5. Merge following two Python dictionaries into one\n",
    "# dict1 = {'Ten': 10, 'Twenty': 20, 'Thirty': 30}\n",
    "# dict2 = {'Thirty': 30, 'Fourty': 40, 'Fifty': 50}\n",
    "# Expected output: {'Ten': 10, 'Twenty': 20, 'Thirty': 30, 'Fourty': 40, 'Fifty': 50}\n",
    "\n",
    "\n",
    "\n",
    "dict1 = {'Ten': 10, 'Twenty': 20, 'Thirty': 30}\n",
    "dict2 = {'Thirty': 30, 'Fourty': 40, 'Fifty': 50}\n",
    "dict3=dict1.copy()\n",
    "dict3.update(dict2)\n",
    "dict3"
   ]
  },
  {
   "cell_type": "code",
   "execution_count": 94,
   "metadata": {},
   "outputs": [
    {
     "data": {
      "text/plain": [
       "{'emp1': {'name': 'Jhon', 'salary': 7500},\n",
       " 'emp2': {'name': 'Emma', 'salary': 8000},\n",
       " 'emp3': {'name': 'Brad', 'salary': 8500}}"
      ]
     },
     "execution_count": 94,
     "metadata": {},
     "output_type": "execute_result"
    }
   ],
   "source": [
    "# Q6. Given a Python dictionary, Change Brad’s salary to 8500\n",
    "\n",
    "#  sampleDict = {\n",
    "# 'emp1': {'name': 'Jhon', 'salary': 7500},\n",
    "# 'emp2': {'name': 'Emma', 'salary': 8000},\n",
    "# 'emp3': {'name': 'Brad', 'salary': 6500}}\n",
    "\n",
    "#  Expected output: \n",
    "#  sampleDict = {\n",
    "# 'emp1': {'name': 'Jhon', 'salary': 7500},\n",
    "# 'emp2': {'name': 'Emma', 'salary': 8000},\n",
    "# 'emp3': {'name': 'Brad', 'salary': 8500}} \n",
    "\n",
    "\n",
    "\n",
    "sampleDict = {\n",
    "'emp1': {'name': 'Jhon', 'salary': 7500},\n",
    "'emp2': {'name': 'Emma', 'salary': 8000},\n",
    "'emp3': {'name': 'Brad', 'salary': 6500}\n",
    "}\n",
    "\n",
    "sampleDict['emp3']['salary']=8500\n",
    "sampleDict"
   ]
  },
  {
   "cell_type": "code",
   "execution_count": 95,
   "metadata": {},
   "outputs": [
    {
     "data": {
      "text/plain": [
       "{'name': 'Kelly', 'age': 25, 'salary': 8000, 'location': 'New york'}"
      ]
     },
     "execution_count": 95,
     "metadata": {},
     "output_type": "execute_result"
    }
   ],
   "source": [
    "# Q7. Rename key city to location in the following dictionary\n",
    "\n",
    "# sampleDict = {\n",
    "# \"name\": \"Kelly\",\n",
    "# \"age\":25,\n",
    "# \"salary\": 8000,\n",
    "# \"city\": \"New york\"\n",
    "# }\n",
    "\n",
    "# Expected output:\n",
    "# {\n",
    "# \"name\": \"Kelly\",\n",
    "# \"age\":25,\n",
    "# \"salary\": 8000,\n",
    "# \"location\": \"New york\"\n",
    "# }\n",
    "\n",
    "\n",
    "\n",
    "sampleDict = {\n",
    "\"name\": \"Kelly\",\n",
    "\"age\":25,\n",
    "\"salary\": 8000,\n",
    "\"city\": \"New york\"\n",
    "}\n",
    "\n",
    "    \n",
    "sampleDict['location']=sampleDict.pop('city')\n",
    "sampleDict"
   ]
  }
 ],
 "metadata": {
  "kernelspec": {
   "display_name": "Python 3",
   "language": "python",
   "name": "python3"
  }
 },
 "nbformat": 4,
 "nbformat_minor": 4
}
