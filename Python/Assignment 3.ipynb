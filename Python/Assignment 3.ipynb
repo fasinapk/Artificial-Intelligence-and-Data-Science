{
 "cells": [
  {
   "cell_type": "code",
   "execution_count": 17,
   "metadata": {},
   "outputs": [
    {
     "name": "stdout",
     "output_type": "stream",
     "text": [
      "Addtion is 30 and substraction is 20\n"
     ]
    }
   ],
   "source": [
    "# Q1. Write a function calculation() such that it can accept two variables as arguments and calculate the addition and \n",
    "#     subtraction of it. And also it must return both addition and subtraction in a single return call\n",
    "\n",
    "\n",
    "\n",
    "def calculation(num1,num2):\n",
    "    add=num1+num2\n",
    "    sub=num1-num2\n",
    "    return add,sub\n",
    "a,_=calculation(25,5)\n",
    "_,s=calculation(25,5)\n",
    "print(\"Addtion is\",a, \"and substraction is\",s)"
   ]
  },
  {
   "cell_type": "code",
   "execution_count": 51,
   "metadata": {},
   "outputs": [
    {
     "name": "stdout",
     "output_type": "stream",
     "text": [
      "Employee John salary is 9500\n",
      "Employee James salary is 9000\n"
     ]
    }
   ],
   "source": [
    "# Q2. Create a function showEmployee() in such a way that it should accept employee name, and it’s salary and display both,\n",
    "#     and if the salary is missing in function call it should show it as 9000\n",
    "\n",
    "\n",
    "\n",
    "def showEmployee(employee_name,salary=9000):\n",
    "    print(\"Employee\" , employee_name , \"salary is\" , salary)\n",
    "showEmployee(\"John\",9500)\n",
    "showEmployee(\"James\")"
   ]
  },
  {
   "cell_type": "code",
   "execution_count": 67,
   "metadata": {},
   "outputs": [
    {
     "data": {
      "text/plain": [
       "{'a': 1, 'e': 2, 'm': 1, 'o': 1, 's': 1, 'w': 1}"
      ]
     },
     "execution_count": 67,
     "metadata": {},
     "output_type": "execute_result"
    }
   ],
   "source": [
    "# Q3. Write a function called multipleLetterCount. This function takes in one parameter (a string) and returns a dictionary \n",
    "#     with the keys being the letters and the value being the count of the letter.\n",
    "#     Example output:\n",
    "#     multipleLetterCount('awesome')\n",
    "#     {'a': 1, 'e': 2, 'm': 1, 'o': 1, 's': 1, 'w': 1}\n",
    "\n",
    "\n",
    "\n",
    "def multipleLetterCount(string):\n",
    "    d={}\n",
    "    for i in sorted(string):\n",
    "        if i in d:\n",
    "            d[i]+=1\n",
    "        else:\n",
    "            d[i]=1\n",
    "    return d\n",
    "        \n",
    "multipleLetterCount('awesome')"
   ]
  }
 ],
 "metadata": {
  "kernelspec": {
   "display_name": "Python 3",
   "language": "python",
   "name": "python3"
  },
  "language_info": {
   "codemirror_mode": {
    "name": "ipython",
    "version": 3
   },
   "file_extension": ".py",
   "mimetype": "text/x-python",
   "name": "python",
   "nbconvert_exporter": "python",
   "pygments_lexer": "ipython3",
   "version": "3.8.3"
  }
 },
 "nbformat": 4,
 "nbformat_minor": 4
}
